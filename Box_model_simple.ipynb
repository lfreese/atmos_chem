{
 "cells": [
  {
   "cell_type": "code",
   "execution_count": 11,
   "metadata": {},
   "outputs": [],
   "source": [
    "using Revise\n",
    "using Plots\n"
   ]
  },
  {
   "cell_type": "markdown",
   "metadata": {},
   "source": [
    "# Chemical Coefficients\n",
    "These are the production rates for the chemical equations, most of which can be left as is:"
   ]
  },
  {
   "cell_type": "markdown",
   "metadata": {},
   "source": [
    "\\begin{align} (1)  \n",
    "    {RH + OH -> RO_2 +H_2O}\n",
    "\\end{align}\n",
    "\\begin{align} (2)\n",
    "    {RO_2 +NO -> NO_2 + RCHO + HO_2}\n",
    "\\end{align}\n",
    "\\begin{align} (3)\n",
    "    {HO_2 + NO -> NO_2 + OH}\n",
    "\\end{align}\n",
    "\\begin{align} (4)\n",
    "    {OH + NO_2 -> HNO_3}\n",
    "\\end{align}\n",
    "\\begin{align} (5)\n",
    "    {HO_2 + HO_2 -> H_2O_2 + O_2}\n",
    "\\end{align}\n",
    "\\begin{align} (6)\n",
    "    {RO_2 + HO_2 -> ROOH + O_2}\n",
    "\\end{align}\n",
    "\\begin{align} (7)\n",
    "    {NO_2 + h\\nu -> NO + O_3}\n",
    "\\end{align}\n",
    "\\begin{align} (8)\n",
    "    {O_3 + NO -> NO_2 + O_3}\n",
    "\\end{align}"
   ]
  },
  {
   "cell_type": "code",
   "execution_count": 1,
   "metadata": {},
   "outputs": [],
   "source": [
    "# rate coefficients\n",
    "#cm3/molec/s\n",
    "k1 = 26.3e-12\n",
    "k2 = 7.7e-12 \n",
    "k3 = 8.1e-12\n",
    "k4 = 1.1e-11\n",
    "k5 = 2.9e-12\n",
    "k6 = 5.2e-12\n",
    "j7 = 0.015 #1/s\n",
    "k8 = 1.9e-14\n",
    "\n",
    "\n",
    "#estimate of P_HOx as 0.1 ppt/s\n",
    "P_HOx = 2.47e7*.1; # estimate this as .1 ppt/s \n"
   ]
  },
  {
   "cell_type": "markdown",
   "metadata": {},
   "source": [
    "# Box Model"
   ]
  },
  {
   "cell_type": "markdown",
   "metadata": {},
   "source": [
    "Our continuity equation is:\n",
    "$\\frac{dc_i}{dt} = \\frac{E}{H} + P - L - \\frac{v_{dep}}{H}c_i + \\frac{u}{\\Delta x} (c_i^0 - c_i)$\n",
    "where:\n",
    "\n",
    "$\\Delta x$ is box width in cm\n",
    "\n",
    "H is box height in cm\n",
    "\n",
    "P is chemical production rate (molec cm-3 s-1)\n",
    "\n",
    "L is chemical loss rate (molec cm-3 s-1)\n",
    "\n",
    "E is emissions rate (molec cm-2 s-1)\n"
   ]
  },
  {
   "cell_type": "markdown",
   "metadata": {},
   "source": [
    "## Functions for our production and loss processes"
   ]
  },
  {
   "cell_type": "code",
   "execution_count": 2,
   "metadata": {},
   "outputs": [],
   "source": [
    "function calc_HO2(NO, NO2, RH, O3)\n",
    "    #quadratic equation\n",
    "    a = (2*k5+2k6*k3/k2)\n",
    "    b = k3*k4*NO2*NO/(k1*RH)\n",
    "    c = -P_HOx\n",
    "    return(quadratic_solver(a,b,c)[2])\n",
    "end\n",
    "\n",
    "function quadratic_solver(a,b,c)\n",
    "    # calculate discriminant\n",
    "    d = (b^2) - (4*a*c)\n",
    "\n",
    "    # find two solutions\n",
    "    sol1 = (-b-sqrt(d))/(2*a)\n",
    "    sol2 = (-b+sqrt(d))/(2*a)\n",
    "    return(sol1, sol2)\n",
    "end\n",
    "\n",
    "function O3_prod(NO2)\n",
    "    P_O3 = j7*NO2\n",
    "    return(P_O3)\n",
    "end\n",
    "\n",
    "function O3_loss(O3, NO)\n",
    "    L_O3 = O3*NO*k8\n",
    "    return(L_O3)\n",
    "end\n",
    "\n",
    "function NO2_prod(NO, O3, HO2)\n",
    "    P_NO2 = O3*NO*k8 + 2*HO2*NO*k3\n",
    "    return P_NO2\n",
    "end\n",
    "\n",
    "function NO2_loss(NO, NO2, HO2, RH)\n",
    "    L_NO2 = j7*NO2 + k4*k3*HO2*NO*NO2/(k1*RH)\n",
    "    return L_NO2\n",
    "end\n",
    "\n",
    "function RH_loss(NO, HO2)\n",
    "    L_RH = k3*HO2*NO\n",
    "    return L_RH\n",
    "end\n",
    "\n",
    "function NO_loss(HO2, NO, O3)\n",
    "    return 2*HO2*NO*k3 + O3*NO*k8\n",
    "end\n",
    "function NO_prod(NO2)\n",
    "    return NO2*j7\n",
    "end\n",
    "\n",
    ";"
   ]
  },
  {
   "cell_type": "markdown",
   "metadata": {},
   "source": [
    "## Structure for our box model"
   ]
  },
  {
   "cell_type": "code",
   "execution_count": 3,
   "metadata": {},
   "outputs": [],
   "source": [
    "mutable struct BoxModel\n",
    "    boxes\n",
    "end\n",
    "\n",
    "mutable struct Box\n",
    "    height\n",
    "    width\n",
    "    length\n",
    "    windspeed\n",
    "    species\n",
    "end\n",
    "\n",
    "mutable struct Species\n",
    "    concentration\n",
    "    concentration_bg\n",
    "    v_dep\n",
    "    emissions\n",
    "end"
   ]
  },
  {
   "cell_type": "code",
   "execution_count": 4,
   "metadata": {},
   "outputs": [
    {
     "data": {
      "text/plain": [
       "timestep! (generic function with 1 method)"
      ]
     },
     "execution_count": 4,
     "metadata": {},
     "output_type": "execute_result"
    }
   ],
   "source": [
    "function timestep!(box::Box, dt)\n",
    "    #copy our box to get values for NO, NO2, RH, and O3 before the timestep (use in production and loss functions)\n",
    "    box.species[\"HO2\"].concentration = calc_HO2(box.species[\"NO\"].concentration, box.species[\"NO2\"].concentration , box.species[\"RH\"].concentration, box.species[\"O3\"].concentration)\n",
    "    box.species[\"HO2\"].concentration_bg = calc_HO2(box.species[\"NO\"].concentration_bg, box.species[\"NO2\"].concentration_bg, box.species[\"RH\"].concentration_bg, box.species[\"O3\"].concentration_bg)\n",
    "    \n",
    "    box_copy = deepcopy(box)\n",
    "    #NO continuity equation\n",
    "    box.species[\"NO\"].concentration += dt*(box_copy.species[\"NO\"].emissions/box.height + \n",
    "        NO_prod(box_copy.species[\"NO2\"].concentration) - \n",
    "        NO_loss(box_copy.species[\"HO2\"].concentration, box_copy.species[\"NO\"].concentration, box_copy.species[\"O3\"].concentration) -\n",
    "        box_copy.species[\"NO\"].v_dep/box.height*box_copy.species[\"NO\"].concentration +\n",
    "        box.windspeed/box.length*(box_copy.species[\"NO\"].concentration_bg - box_copy.species[\"NO\"].concentration))\n",
    "    #NO2 continuity equation\n",
    "    box.species[\"NO2\"].concentration += dt*(box_copy.species[\"NO2\"].emissions/box.height + \n",
    "        NO2_prod(box_copy.species[\"NO\"].concentration, box_copy.species[\"O3\"].concentration, box_copy.species[\"HO2\"].concentration) - \n",
    "        NO2_loss(box_copy.species[\"NO\"].concentration, box_copy.species[\"NO2\"].concentration,box_copy.species[\"HO2\"].concentration, box_copy.species[\"RH\"].concentration) -\n",
    "        box_copy.species[\"NO2\"].v_dep/box.height*box_copy.species[\"NO2\"].concentration +\n",
    "        box.windspeed/box.length*(box_copy.species[\"NO2\"].concentration_bg - box_copy.species[\"NO2\"].concentration))\n",
    "    #O3 continuity equation\n",
    "    box.species[\"O3\"].concentration += dt*(box_copy.species[\"O3\"].emissions/box.height + \n",
    "        O3_prod(box_copy.species[\"NO2\"].concentration) - \n",
    "        O3_loss(box_copy.species[\"O3\"].concentration, box_copy.species[\"NO\"].concentration) -\n",
    "        box_copy.species[\"O3\"].v_dep/box.height*box_copy.species[\"O3\"].concentration +\n",
    "        box.windspeed/box.length*(box_copy.species[\"O3\"].concentration_bg - box_copy.species[\"O3\"].concentration))\n",
    "    \n",
    "    #VOC continuity equation, assuming that VOCs have no chemical production \n",
    "    box.species[\"RH\"].concentration += dt*(box_copy.species[\"RH\"].emissions/box.height -\n",
    "        RH_loss(box_copy.species[\"NO\"].concentration, box_copy.species[\"HO2\"].concentration) -\n",
    "        box_copy.species[\"RH\"].v_dep/box.height*box_copy.species[\"RH\"].concentration +\n",
    "        box.windspeed/box.length*(box_copy.species[\"RH\"].concentration_bg - box_copy.species[\"RH\"].concentration))\n",
    "end"
   ]
  },
  {
   "cell_type": "markdown",
   "metadata": {},
   "source": [
    "## Parameters for Box Model (can be adjusted)"
   ]
  },
  {
   "cell_type": "code",
   "execution_count": 12,
   "metadata": {},
   "outputs": [],
   "source": [
    "NO2_concentration = 9.22e9 #molec/cm3 \n",
    "NO2_concentration_background = 9.22e9*.98#molec/cm3 \n",
    "NO2_deposition_velocity = .6 #cm/s \n",
    "NO2_emissions = 8.15e9 #molec/cm2/s\n",
    "\n",
    "NO_concentration = 1.5e9 #molec/cm3 \n",
    "NO_concentration_background = 1.5e9*.98 #molec/cm3 \n",
    "NO_deposition_velocity = .6 #cm/s \n",
    "NO_emissions = 6.4e9 #molec/cm2/s\n",
    "\n",
    "RH_concentration = 2.5e13 #molec/cm3 \n",
    "RH_concentration_background = 2.5e13*.98 #molec/cm3 \n",
    "RH_deposition_velocity = .2 #cm/s \n",
    "RH_emissions = 2.1e8 #molec/cm2/s\n",
    "\n",
    "O3_concentration = 7.1e9 #molec/cm3 \n",
    "O3_concentration_background = 7.1e9*.98 #molec/cm3 \n",
    "O3_deposition_velocity = .5 #cm/s \n",
    "O3_emissions = 0 #molec/cm2/s\n",
    "\n",
    "HO2_concentration = calc_HO2(NO_concentration, NO2_concentration, RH_concentration, O3_concentration)#molec/cm3 \n",
    "HO2_concentration_background = calc_HO2(NO_concentration_background, NO2_concentration_background, RH_concentration_background, O3_concentration_background)#molec/cm3 \n",
    "HO2_deposition_velocity = 0 #cm/s \n",
    "HO2_emissions = 0 #molec/cm2/s\n",
    "\n",
    "\n",
    "Δt = 1 #seconds\n",
    "days = 10 #days\n",
    "H = 3e5 #cm\n",
    "Δx = 20e6 #cm\n",
    "u = 3e2 #cm/s\n",
    ";"
   ]
  },
  {
   "cell_type": "markdown",
   "metadata": {},
   "source": [
    "# Set up the Box Model and Plot the Concentrations"
   ]
  },
  {
   "cell_type": "code",
   "execution_count": 13,
   "metadata": {},
   "outputs": [
    {
     "ename": "LoadError",
     "evalue": "syntax: incomplete: \"for\" at In[13]:20 requires end",
     "output_type": "error",
     "traceback": [
      "syntax: incomplete: \"for\" at In[13]:20 requires end",
      "",
      "Stacktrace:",
      " [1] top-level scope at In[13]:20",
      " [2] include_string(::Function, ::Module, ::String, ::String) at ./loading.jl:1091"
     ]
    }
   ],
   "source": [
    "#Set up our species structs\n",
    "NO2_species = Species(NO2_concentration, NO2_concentration_background, NO2_deposition_velocity, NO2_emissions) \n",
    "NO_species = Species(NO_concentration, NO_concentration_background, NO_deposition_velocity, NO_emissions) #molec/cm3 #molec/cm3 #cm/s #molec/cm2/s\n",
    "RH_species = Species(RH_concentration, RH_concentration_background, RH_deposition_velocity, RH_emissions)\n",
    "O3_species = Species(O3_concentration, O3_concentration_background, O3_deposition_velocity, O3_emissions)\n",
    "HO2_species = Species(HO2_concentration, HO2_concentration_background, HO2_deposition_velocity, HO2_emissions)\n",
    "species = Dict(\n",
    "    \"NO2\"=>NO2_species,\n",
    "    \"NO\"=>NO_species,\n",
    "    \"RH\"=>RH_species, \n",
    "    \"HO2\"=>HO2_species, \n",
    "    \"O3\"=>O3_species)\n",
    "\n",
    "#set up our box model struct\n",
    "box = deepcopy(Box(H, Δx, Δx, u, species))\n",
    "\n",
    "#plot the given parameters\n",
    "p1 = plot(); p2 = plot(); p3 = plot(); p4 = plot(); p5 = plot();\n",
    "p = plot(p1, p2, p3, p4, p5, layout=(5,1), size=(800, 900))\n",
    "for t = 1:86400/Δt*days\n",
    "    global prev_box = deepcopy(rural_box)\n",
    "    timestep!(rural_box, Δt)\n",
    "    if isnan(rural_box.species[\"HO2\"].concentration)\n",
    "        print(\"Error--some of the concentrations are going to zero, make sure they are reasonable values\")\n",
    "    if (t%(10000)) == 0\n",
    "        plot!(p1,[t],[rural_box.species[\"RH\"].concentration],marker = :o, label = nothing, ylabel=\"RH\")\n",
    "        plot!(p2,[t],[rural_box.species[\"NO\"].concentration],marker = :o, label = nothing, ylabel=\"NO\")\n",
    "        plot!(p3,[t],[rural_box.species[\"NO2\"].concentration],marker = :o, label = nothing, ylabel=\"NO2\")\n",
    "        plot!(p4,[t],[rural_box.species[\"O3\"].concentration],marker = :o, label = nothing, ylabel=\"O3\")\n",
    "        plot!(p5,[t],[rural_box.species[\"HO2\"].concentration],marker = :o, label = nothing, ylabel=\"HO2\", xlabel = \"Time (seconds)\")\n",
    "    end\n",
    "end\n",
    "p\n"
   ]
  },
  {
   "cell_type": "code",
   "execution_count": null,
   "metadata": {},
   "outputs": [],
   "source": []
  }
 ],
 "metadata": {
  "kernelspec": {
   "display_name": "Julia 1.5.3",
   "language": "julia",
   "name": "julia-1.5"
  },
  "language_info": {
   "file_extension": ".jl",
   "mimetype": "application/julia",
   "name": "julia",
   "version": "1.5.3"
  }
 },
 "nbformat": 4,
 "nbformat_minor": 4
}
